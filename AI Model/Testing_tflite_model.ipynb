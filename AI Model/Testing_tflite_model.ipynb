{
  "nbformat": 4,
  "nbformat_minor": 0,
  "metadata": {
    "colab": {
      "name": "Testing_tflite_model.ipynb",
      "provenance": []
    },
    "kernelspec": {
      "name": "python3",
      "display_name": "Python 3"
    }
  },
  "cells": [
    {
      "cell_type": "code",
      "metadata": {
        "id": "yQPRbc_dpcgk",
        "outputId": "6bf663e4-6e9f-4c61-e087-344cbbf38956",
        "colab": {
          "base_uri": "https://localhost:8080/",
          "height": 52
        }
      },
      "source": [
        "!pip install opencv-python"
      ],
      "execution_count": null,
      "outputs": [
        {
          "output_type": "stream",
          "text": [
            "Requirement already satisfied: opencv-python in /usr/local/lib/python3.6/dist-packages (4.1.2.30)\n",
            "Requirement already satisfied: numpy>=1.11.3 in /usr/local/lib/python3.6/dist-packages (from opencv-python) (1.18.5)\n"
          ],
          "name": "stdout"
        }
      ]
    },
    {
      "cell_type": "code",
      "metadata": {
        "id": "RTyoriuimFas",
        "outputId": "cd73b72b-b291-4745-dd78-fd650d4db578",
        "colab": {
          "base_uri": "https://localhost:8080/",
          "height": 35
        }
      },
      "source": [
        "from google.colab import drive\n",
        "drive.mount('/content/drive')"
      ],
      "execution_count": 1,
      "outputs": [
        {
          "output_type": "stream",
          "text": [
            "Mounted at /content/drive\n"
          ],
          "name": "stdout"
        }
      ]
    },
    {
      "cell_type": "code",
      "metadata": {
        "id": "QTWmJ-pIqMC3",
        "outputId": "09eb8b56-4409-47a6-873e-bb01a6b124fa",
        "colab": {
          "base_uri": "https://localhost:8080/",
          "height": 392
        }
      },
      "source": [
        "import tensorflow as tf\n",
        "import numpy as np\n",
        "import cv2\n",
        "import matplotlib.pyplot as plt\n",
        "\n",
        "\n",
        "\n",
        "# DEF. PARAMETERS\n",
        "img_row, img_column = 300, 300\n",
        "target_size = (img_row, img_column)\n",
        "num_channel = 3\n",
        "num_batch = 1\n",
        "# include the path containing the model (.lite, .tflite)\n",
        "#model_path = \"final_model.tflite\"\n",
        "model_path = \"/content/drive/My Drive/final_model1.tflite\"\n",
        "\n",
        "\n",
        "input_img_name = '/content/4.jpg'#'front_image.png'\n",
        "image_orig = cv2.imread(input_img_name)\n",
        "\n",
        "shape = image_orig.shape\n",
        "H = shape[0]\n",
        "W = shape[1]\n",
        "\n",
        "if(H>W):\n",
        " top =0\n",
        " bottom=0\n",
        " left= int((H-W)/2)\n",
        " right = left\n",
        "else:\n",
        " top = int((W-H)/2)\n",
        " bottom = top\n",
        " left= 0\n",
        " right = 0\n",
        "\n",
        "image_padded = image_orig.copy()\n",
        "image_padded = cv2.copyMakeBorder(image_padded,top, bottom, left, right ,cv2.BORDER_CONSTANT,0)\n",
        "\n",
        "\n",
        "image = cv2.resize(image_padded, target_size)\n",
        "\n",
        "# for float inpu model\n",
        "inp_image = np.zeros((1,target_size[1], target_size[0], 3), dtype=np.float32)\n",
        "inp_image[0,:,:,:] = image[:,:,0:3].astype(np.float32)\n",
        "\n",
        "\n",
        "# for uint8\n",
        "# inp_image = np.zeros((1,target_size[1], target_size[0], 3), dtype=np.uint8)\n",
        "# inp_image[0,:,:,:] = image[:,:,0:3].astype(np.uint8)\n",
        "\n",
        "\n",
        "# TFLITE INTERPRETER CON.\n",
        "interpreter = tf.lite.Interpreter(model_path)\n",
        "interpreter.allocate_tensors()\n",
        "# obtaining the input-output shapes and types\n",
        "input_details = interpreter.get_input_details()\n",
        "output_details = interpreter.get_output_details()\n",
        "\n",
        "#print the details and idex of your inputs and outputs\n",
        "print(input_details) # you will see that the index is = 338, this will be needed if you use C++ or jave tflite api\n",
        "\n",
        "# input_details\n",
        "# [{'dtype': numpy.float32,\n",
        "#   'index': 338,\n",
        "#   'name': 'normalized_input_image_tensor',\n",
        "#   'quantization': (0.0, 0L),\n",
        "#   'shape': array([  1, 300, 300,   3], dtype=int32)}]\n",
        "\n",
        "\n",
        "print(output_details)  # you will see that the index is = 330, 331, 332, 333, this will be needed if you use C++ or jave tflite api\n",
        "\n",
        "\n",
        "# output_details\n",
        "\n",
        "# [{'dtype': numpy.float32,\n",
        "#   'index': 330,\n",
        "#   'name': 'TFLite_Detection_PostProcess',\n",
        "#   'quantization': (0.0, 0L),\n",
        "#   'shape': array([ 1, 10,  4], dtype=int32)},\n",
        "#  {'dtype': numpy.float32,\n",
        "#   'index': 331,\n",
        "#   'name': 'TFLite_Detection_PostProcess:1',\n",
        "#   'quantization': (0.0, 0L),\n",
        "#   'shape': array([ 1, 10], dtype=int32)},\n",
        "#  {'dtype': numpy.float32,\n",
        "#   'index': 332,\n",
        "#   'name': 'TFLite_Detection_PostProcess:2',\n",
        "#   'quantization': (0.0, 0L),\n",
        "#   'shape': array([ 1, 10], dtype=int32)},\n",
        "#  {'dtype': numpy.float32,\n",
        "#   'index': 333,\n",
        "#   'name': 'TFLite_Detection_PostProcess:3',\n",
        "#   'quantization': (0.0, 0L),\n",
        "#   'shape': array([1], dtype=int32)}]\n",
        "\n",
        "\n",
        "net_input = inp_image.reshape(input_details[0]['shape'])\n",
        "\n",
        "# RUNNING INTERPRETER\n",
        "# setting the input tensor with the selected input\n",
        "interpreter.set_tensor(input_details[0]['index'], net_input)\n",
        "\n",
        "# running inference\n",
        "interpreter.invoke()\n",
        "\n",
        "print('====================================================================')\n",
        "net_out_0 = interpreter.get_tensor(output_details[0]['index']) # 'TFLite_Detection_PostProcess' \n",
        "print(net_out_0)\n",
        "\n",
        "print('====================================================================')\n",
        "net_out_1 = interpreter.get_tensor(output_details[1]['index']) # 'TFLite_Detection_PostProcess:1'\n",
        "print(net_out_1)\n",
        "\n",
        "print('====================================================================')\n",
        "net_out_2 = interpreter.get_tensor(output_details[2]['index']) # 'TFLite_Detection_PostProcess:2'\n",
        "print(net_out_2)\n",
        "\n",
        "print('====================================================================')\n",
        "net_out_3 = interpreter.get_tensor(output_details[3]['index']) # 'TFLite_Detection_PostProcess:3'\n",
        "print(net_out_3)\n"
      ],
      "execution_count": 3,
      "outputs": [
        {
          "output_type": "stream",
          "text": [
            "[{'name': 'normalized_input_image_tensor', 'index': 256, 'shape': array([  1, 300, 300,   3], dtype=int32), 'shape_signature': array([  1, 300, 300,   3], dtype=int32), 'dtype': <class 'numpy.float32'>, 'quantization': (0.0, 0), 'quantization_parameters': {'scales': array([], dtype=float32), 'zero_points': array([], dtype=int32), 'quantized_dimension': 0}, 'sparsity_parameters': {}}]\n",
            "[{'name': 'TFLite_Detection_PostProcess', 'index': 248, 'shape': array([ 1, 10,  4], dtype=int32), 'shape_signature': array([ 1, 10,  4], dtype=int32), 'dtype': <class 'numpy.float32'>, 'quantization': (0.0, 0), 'quantization_parameters': {'scales': array([], dtype=float32), 'zero_points': array([], dtype=int32), 'quantized_dimension': 0}, 'sparsity_parameters': {}}, {'name': 'TFLite_Detection_PostProcess:1', 'index': 249, 'shape': array([ 1, 10], dtype=int32), 'shape_signature': array([ 1, 10], dtype=int32), 'dtype': <class 'numpy.float32'>, 'quantization': (0.0, 0), 'quantization_parameters': {'scales': array([], dtype=float32), 'zero_points': array([], dtype=int32), 'quantized_dimension': 0}, 'sparsity_parameters': {}}, {'name': 'TFLite_Detection_PostProcess:2', 'index': 250, 'shape': array([ 1, 10], dtype=int32), 'shape_signature': array([ 1, 10], dtype=int32), 'dtype': <class 'numpy.float32'>, 'quantization': (0.0, 0), 'quantization_parameters': {'scales': array([], dtype=float32), 'zero_points': array([], dtype=int32), 'quantized_dimension': 0}, 'sparsity_parameters': {}}, {'name': 'TFLite_Detection_PostProcess:3', 'index': 251, 'shape': array([1], dtype=int32), 'shape_signature': array([1], dtype=int32), 'dtype': <class 'numpy.float32'>, 'quantization': (0.0, 0), 'quantization_parameters': {'scales': array([], dtype=float32), 'zero_points': array([], dtype=int32), 'quantized_dimension': 0}, 'sparsity_parameters': {}}]\n",
            "====================================================================\n",
            "[[[ 0.9698904   0.23221862  0.9840482   0.2641231 ]\n",
            "  [ 0.9764932   0.14792277  0.99383503  0.21362115]\n",
            "  [ 0.9114934   0.06492556  1.0340953   0.2908202 ]\n",
            "  [ 0.86522937  0.1130147   1.0807815   0.25134546]\n",
            "  [ 0.9679427   0.71081376  0.9760921   0.72795784]\n",
            "  [ 0.16802052 -0.17099816  0.84639955  1.1692064 ]\n",
            "  [-0.14384419  0.16456762  1.1867881   0.82924914]\n",
            "  [ 0.00856668  0.02541021  0.9675496   0.9904145 ]\n",
            "  [ 0.906819    0.10340895  1.0377197   0.36098063]\n",
            "  [ 0.87120885  0.06091136  1.0799978   0.19886479]]]\n",
            "====================================================================\n",
            "[[2. 2. 2. 2. 2. 0. 1. 2. 2. 2.]]\n",
            "====================================================================\n",
            "[[0.06891504 0.00115484 0.00083673 0.00047365 0.00041702 0.00038984\n",
            "  0.00038746 0.00038725 0.00038365 0.00033495]]\n",
            "====================================================================\n",
            "[10.]\n"
          ],
          "name": "stdout"
        }
      ]
    }
  ]
}